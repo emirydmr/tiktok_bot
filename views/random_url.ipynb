{
 "cells": [
  {
   "cell_type": "code",
   "execution_count": 1,
   "id": "716c08d4-501b-4717-9298-62d048c52b91",
   "metadata": {},
   "outputs": [],
   "source": [
    "import os"
   ]
  },
  {
   "cell_type": "code",
   "execution_count": null,
   "id": "adef8042-330b-4a7a-8985-4ad928d0a52b",
   "metadata": {},
   "outputs": [
    {
     "name": "stdout",
     "output_type": "stream",
     "text": [
      "captcha detected\n",
      "captcha still present\n",
      "captcha still present\n",
      "captcha passed\n",
      "URL at index: 4 was placed\n",
      "URL at index: 4 was placed\n",
      "buttons not found/ waiting another 12 seconds\n",
      "URL at index: 5 was placed\n",
      "buttons not found/ waiting another 15 seconds\n",
      "URL at index: 1 was placed\n",
      "buttons not found/ waiting another 15 seconds\n",
      "URL at index: 4 was placed\n",
      "buttons not found/ waiting another 10 seconds\n",
      "URL at index: 0 was placed\n",
      "buttons not found/ waiting another 17 seconds\n",
      "URL at index: 4 was placed\n",
      "buttons not found/ waiting another 20 seconds\n",
      "URL at index: 2 was placed\n",
      "URL at index: 2 was placed\n",
      "buttons not found/ waiting another 12 seconds\n",
      "URL at index: 3 was placed\n"
     ]
    }
   ],
   "source": [
    "def main():\n",
    "    import os\n",
    "    import time\n",
    "    from selenium import webdriver\n",
    "    from selenium.webdriver.common.by import By\n",
    "    from selenium.common.exceptions import NoSuchElementException, ElementClickInterceptedException\n",
    "    import random\n",
    "    from fake_useragent import UserAgent\n",
    "\n",
    "    current_dir = os.getcwd()\n",
    "    parent_dir = os.path.dirname(current_dir)\n",
    "    file_path = os.path.join(parent_dir, 'video_urls.txt')\n",
    "    \n",
    "    urls = [line.strip() for line in open(rf\"{file_path}\", \"r\").readlines()]\n",
    "    \n",
    "    user_agent = UserAgent(platforms=\"pc\").random\n",
    "    views_sent = 0\n",
    "    options = webdriver.ChromeOptions()\n",
    "    options.add_argument(f\"user-agent={user_agent}\")\n",
    "    options.add_experimental_option('excludeSwitches', ['enable-logging'])  # Disables logging\n",
    "        \n",
    "    driver = webdriver.Chrome(options=options)\n",
    "    driver.set_window_size(1200, 1200)\n",
    "    driver.get('https://vipto.de/')\n",
    "    captcha = driver.find_elements(By.XPATH, \"/html/body/div[5]/div[2]/form/div/div/img\")\n",
    "    if captcha:\n",
    "        print(\"captcha detected\")\n",
    "    while captcha:\n",
    "        try:\n",
    "            driver.find_element(By.XPATH, '/html/body/div[6]/div/div[2]/div/div/div[6]/div/button').click()\n",
    "        except NoSuchElementException:\n",
    "            print(\"captcha still present\")\n",
    "            time.sleep(2)\n",
    "        except:\n",
    "            print(\"captcha passed\")\n",
    "            captcha = False\n",
    "    #captcha solving time\n",
    "    time.sleep(0.5)\n",
    "    \n",
    "    #view button\n",
    "    #driver.find_element(By.XPATH, '/html/body/div[6]/div/div[2]/div/div/div[6]/div/button').click()\n",
    "    time.sleep(2)\n",
    "    while True:\n",
    "        try:\n",
    "            #input link\n",
    "            random_url_index = random.randint(0,urls.__len__()-1)\n",
    "            random_url = urls[random_url_index]\n",
    "            driver.find_element(By.XPATH, '/html/body/div[10]/div/form/div/input').send_keys(random_url)\n",
    "            print(f\"URL at index: {random_url_index} was placed\")\n",
    "            time.sleep(2)\n",
    "            #press search\n",
    "            driver.find_element(By.XPATH, '/html/body/div[10]/div/form/div/div/button').click()\n",
    "            time.sleep(2)\n",
    "            # Clicks the \"Send Views\" button.\n",
    "            driver.find_element(By.XPATH, '/html/body/div[10]/div/div/div[1]/div/form/button').click()\n",
    "        except Exception as error:\n",
    "            waiting_time = random.randint(10,20)\n",
    "            time.sleep(waiting_time)\n",
    "            print(f\"buttons not found/ waiting another {waiting_time} seconds\")\n",
    "\n",
    "if __name__ == \"__main__\":\n",
    "    main()\n",
    "    "
   ]
  },
  {
   "cell_type": "code",
   "execution_count": 8,
   "id": "36fc119c-b758-4ed5-9cc9-6f2d37bf9a42",
   "metadata": {},
   "outputs": [
    {
     "data": {
      "text/plain": [
       "True"
      ]
     },
     "execution_count": 8,
     "metadata": {},
     "output_type": "execute_result"
    }
   ],
   "source": [
    "bool(captcha)"
   ]
  }
 ],
 "metadata": {
  "kernelspec": {
   "display_name": "Python 3 (ipykernel)",
   "language": "python",
   "name": "python3"
  },
  "language_info": {
   "codemirror_mode": {
    "name": "ipython",
    "version": 3
   },
   "file_extension": ".py",
   "mimetype": "text/x-python",
   "name": "python",
   "nbconvert_exporter": "python",
   "pygments_lexer": "ipython3",
   "version": "3.12.1"
  }
 },
 "nbformat": 4,
 "nbformat_minor": 5
}
