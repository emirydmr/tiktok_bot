{
 "cells": [
  {
   "cell_type": "code",
   "execution_count": 30,
   "id": "3efb286f-b5e0-45e0-972a-13da043d0df2",
   "metadata": {},
   "outputs": [
    {
     "name": "stdout",
     "output_type": "stream",
     "text": [
      "[!] Solve the captcha...\n",
      "buttons not found/ waiting another 15 seconds\n",
      "buttons not found/ waiting another 14 seconds\n",
      "[!] Solve the captcha...\n",
      "buttons not found/ waiting another 10 seconds\n",
      "buttons not found/ waiting another 12 seconds\n",
      "buttons not found/ waiting another 19 seconds\n",
      "buttons not found/ waiting another 14 seconds\n",
      "buttons not found/ waiting another 11 seconds\n",
      "buttons not found/ waiting another 18 seconds\n",
      "buttons not found/ waiting another 14 seconds\n",
      "buttons not found/ waiting another 11 seconds\n",
      "buttons not found/ waiting another 20 seconds\n",
      "buttons not found/ waiting another 18 seconds\n",
      "buttons not found/ waiting another 20 seconds\n",
      "buttons not found/ waiting another 12 seconds\n",
      "buttons not found/ waiting another 17 seconds\n",
      "buttons not found/ waiting another 11 seconds\n",
      "buttons not found/ waiting another 20 seconds\n",
      "buttons not found/ waiting another 17 seconds\n",
      "buttons not found/ waiting another 20 seconds\n",
      "buttons not found/ waiting another 14 seconds\n",
      "buttons not found/ waiting another 12 seconds\n",
      "buttons not found/ waiting another 20 seconds\n",
      "buttons not found/ waiting another 13 seconds\n",
      "buttons not found/ waiting another 12 seconds\n",
      "buttons not found/ waiting another 18 seconds\n"
     ]
    }
   ],
   "source": [
    "from main_function import *\n",
    "import threading\n",
    "import time\n",
    "# get list of links from video_urls.txt\n",
    "tiktok_links = [line.strip() for line in open(\"video_urls.txt\", \"r\").readlines()]\n",
    "\n",
    "# Threads erstellen\n",
    "threads = []\n",
    "for link in tiktok_links:\n",
    "    t = threading.Thread(target=main, args=(link,))\n",
    "    threads.append(t)\n",
    "    t.start()  # Starte jeden Thread\n",
    "    time.sleep(5)"
   ]
  }
 ],
 "metadata": {
  "kernelspec": {
   "display_name": "Python 3 (ipykernel)",
   "language": "python",
   "name": "python3"
  },
  "language_info": {
   "codemirror_mode": {
    "name": "ipython",
    "version": 3
   },
   "file_extension": ".py",
   "mimetype": "text/x-python",
   "name": "python",
   "nbconvert_exporter": "python",
   "pygments_lexer": "ipython3",
   "version": "3.12.1"
  }
 },
 "nbformat": 4,
 "nbformat_minor": 5
}
